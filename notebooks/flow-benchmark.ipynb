{
 "cells": [
  {
   "cell_type": "code",
   "execution_count": 9,
   "metadata": {},
   "outputs": [],
   "source": [
    "import torch\n",
    "from torch.distributions import *\n",
    "from flows import *\n",
    "\n",
    "# dataset is inverse transform sampling of arbitrary distribution\n",
    "dim = 1\n",
    "datapoints = 2500\n",
    "# dist = Laplace(torch.tensor([0.0]), torch.tensor([1.]))\n",
    "dist = Exponential(torch.tensor([1.0]))\n",
    "# dist = Cauchy(torch.tensor([0.0]), torch.tensor([1.0]))\n",
    "# dist = ContinuousBernoulli(torch.tensor([0.3]))\n",
    "# dist = HalfCauchy(torch.tensor([1.0]))\n",
    "# dist = HalfNormal(torch.tensor([1.0]))\n",
    "# dist = Normal(torch.tensor([0.0]), torch.tensor([1.0]))\n",
    "# dist = TransformedDistribution { ... }\n",
    "# dist = Uniform(torch.tensor([0.0]), torch.tensor([1.0]))\n",
    "\n",
    "table = dist.sample_n(datapoints)\n",
    "dataset = torch.utils.data.TensorDataset(table)\n",
    "dataloader = torch.utils.data.DataLoader(dataset, batch_size=1000)"
   ]
  },
  {
   "cell_type": "code",
   "execution_count": null,
   "metadata": {},
   "outputs": [],
   "source": [
    "cov"
   ]
  },
  {
   "cell_type": "code",
   "execution_count": 10,
   "metadata": {},
   "outputs": [],
   "source": [
    "# flows convert to normal dist\n",
    "normal_flows = Flows(\n",
    "    DenseTriangularFlow(dim, True),\n",
    "    DenseTriangularFlow(dim, False),\n",
    "    DenseTriangularFlow(dim, True),\n",
    "    DenseTriangularFlow(dim, False),\n",
    "    SoftlogFlow(),\n",
    "    DenseTriangularFlow(dim, True),\n",
    "    DenseTriangularFlow(dim, False),\n",
    "    DenseTriangularFlow(dim, True),\n",
    "    DenseTriangularFlow(dim, False),\n",
    "    SoftlogFlow()\n",
    ")\n",
    "\n",
    "# final flow converts to normal\n",
    "\n",
    "# train on NLL\n",
    "net = FlowModule(normal_flows, NegLogLikelihoodLoss(dim))\n",
    "\n",
    "optimizer = torch.optim.Adam(net.parameters(), lr=1e-2)"
   ]
  },
  {
   "cell_type": "code",
   "execution_count": 11,
   "metadata": {
    "tags": [
     "outputPrepend",
     "outputPrepend",
     "outputPrepend",
     "outputPrepend",
     "outputPrepend",
     "outputPrepend",
     "outputPrepend",
     "outputPrepend",
     "outputPrepend",
     "outputPrepend",
     "outputPrepend",
     "outputPrepend",
     "outputPrepend",
     "outputPrepend",
     "outputPrepend",
     "outputPrepend",
     "outputPrepend",
     "outputPrepend",
     "outputPrepend",
     "outputPrepend",
     "outputPrepend",
     "outputPrepend",
     "outputPrepend",
     "outputPrepend",
     "outputPrepend",
     "outputPrepend",
     "outputPrepend",
     "outputPrepend",
     "outputPrepend",
     "outputPrepend",
     "outputPrepend",
     "outputPrepend",
     "outputPrepend",
     "outputPrepend",
     "outputPrepend",
     "outputPrepend",
     "outputPrepend",
     "outputPrepend",
     "outputPrepend",
     "outputPrepend",
     "outputPrepend",
     "outputPrepend",
     "outputPrepend",
     "outputPrepend",
     "outputPrepend",
     "outputPrepend",
     "outputPrepend",
     "outputPrepend",
     "outputPrepend",
     "outputPrepend",
     "outputPrepend",
     "outputPrepend",
     "outputPrepend",
     "outputPrepend",
     "outputPrepend",
     "outputPrepend",
     "outputPrepend",
     "outputPrepend",
     "outputPrepend",
     "outputPrepend",
     "outputPrepend",
     "outputPrepend",
     "outputPrepend",
     "outputPrepend",
     "outputPrepend",
     "outputPrepend",
     "outputPrepend"
    ]
   },
   "outputs": [
    {
     "output_type": "stream",
     "name": "stdout",
     "text": "final loss: 1.176\n"
    }
   ],
   "source": [
    "final_loss = 0.0\n",
    "for batch in range(200):  #1oop over the dataset multiple times\n",
    "    for _, data in enumerate(dataloader, 0):\n",
    "        # zero the parameter gradients\n",
    "        optimizer.zero_grad()\n",
    "\n",
    "        # forward + backward + optimize\n",
    "        loss = net(data[0])\n",
    "        loss.backward()\n",
    "        optimizer.step()\n",
    "        final_loss = loss\n",
    "print(\"final loss: %.03f\" % final_loss)"
   ]
  },
  {
   "cell_type": "code",
   "execution_count": 13,
   "metadata": {
    "tags": [
     "outputPrepend"
    ]
   },
   "outputs": [
    {
     "output_type": "stream",
     "name": "stdout",
     "text": "tensor(0.0470, grad_fn=<SqrtBackward>)\ntensor([[0.0010, 0.0267],\n        [0.0510, 0.0533],\n        [0.1010, 0.0828],\n        [0.1510, 0.1131],\n        [0.2010, 0.1458],\n        [0.2510, 0.1821],\n        [0.3010, 0.2229],\n        [0.3510, 0.2696],\n        [0.4010, 0.3236],\n        [0.4510, 0.3871],\n        [0.5010, 0.4626],\n        [0.5510, 0.5471],\n        [0.6010, 0.6162],\n        [0.6510, 0.6717],\n        [0.7010, 0.7175],\n        [0.7510, 0.7563],\n        [0.8010, 0.7902],\n        [0.8510, 0.8207],\n        [0.9010, 0.8496],\n        [0.9510, 0.8801]], grad_fn=<SqueezeBackward1>)\n"
    }
   ],
   "source": [
    "from numpy import arange\n",
    "\n",
    "cdf_flows = Flows(\n",
    "    normal_flows,\n",
    "    NormalCdfFlow()\n",
    ")\n",
    "\n",
    "uniform = torch.tensor(list(arange(0.001, 0.999, 0.05))).unsqueeze(1)\n",
    "# print(uniform.shape)\n",
    "x = dist.icdf(uniform)\n",
    "y, log_det = cdf_flows(x)\n",
    "\n",
    "rmse = (y - uniform).pow(2).mean().sqrt()\n",
    "print(rmse)\n",
    "\n",
    "uniform_with_y = torch.stack([uniform, y], dim=1).squeeze(2)\n",
    "print(uniform_with_y)"
   ]
  },
  {
   "cell_type": "code",
   "execution_count": 8,
   "metadata": {},
   "outputs": [
    {
     "output_type": "stream",
     "name": "stdout",
     "text": "[Parameter containing:\ntensor([[0.6278]], requires_grad=True), Parameter containing:\ntensor([-0.3205], requires_grad=True), Parameter containing:\ntensor([[0.6409]], requires_grad=True), Parameter containing:\ntensor([-0.3354], requires_grad=True), Parameter containing:\ntensor([[0.6872]], requires_grad=True), Parameter containing:\ntensor([-0.3500], requires_grad=True), Parameter containing:\ntensor([[0.7609]], requires_grad=True), Parameter containing:\ntensor([-0.3631], requires_grad=True), Parameter containing:\ntensor([[1.8049]], requires_grad=True), Parameter containing:\ntensor([0.6451], requires_grad=True), Parameter containing:\ntensor([[1.9340]], requires_grad=True), Parameter containing:\ntensor([0.6000], requires_grad=True), Parameter containing:\ntensor([[2.0000]], requires_grad=True), Parameter containing:\ntensor([0.5487], requires_grad=True), Parameter containing:\ntensor([[2.0259]], requires_grad=True), Parameter containing:\ntensor([0.4914], requires_grad=True)]\n"
    }
   ],
   "source": [
    "print(list(net.parameters()))"
   ]
  }
 ],
 "metadata": {
  "language_info": {
   "codemirror_mode": {
    "name": "ipython",
    "version": 3
   },
   "file_extension": ".py",
   "mimetype": "text/x-python",
   "name": "python",
   "nbconvert_exporter": "python",
   "pygments_lexer": "ipython3",
   "version": "3.7.6-final"
  },
  "orig_nbformat": 2,
  "kernelspec": {
   "name": "python3",
   "display_name": "Python 3"
  }
 },
 "nbformat": 4,
 "nbformat_minor": 2
}