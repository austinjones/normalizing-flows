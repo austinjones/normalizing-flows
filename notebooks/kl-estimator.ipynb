{
 "cells": [
  {
   "cell_type": "code",
   "execution_count": 92,
   "metadata": {},
   "outputs": [
    {
     "output_type": "execute_result",
     "data": {
      "text/plain": "tensor([0.4431])"
     },
     "metadata": {},
     "execution_count": 92
    }
   ],
   "source": [
    "import torch\n",
    "from torch.distributions import *\n",
    "from flows import *\n",
    "\n",
    "dist1 = Normal(torch.tensor([1.0]), torch.tensor([1.0]))\n",
    "dist2 = Normal(torch.tensor([0.0]), torch.tensor([2.0]))\n",
    "kl_divergence(dist1, dist2)"
   ]
  },
  {
   "cell_type": "code",
   "execution_count": 111,
   "metadata": {},
   "outputs": [],
   "source": [
    "# - KL divergence approximation, based on monte-carlo samples pulled from P,\n",
    "# and vectors of P(x) and Q(x)\n",
    "# See https://tiao.io/post/density-ratio-estimation-for-kl-divergence-minimization-between-implicit-distributions/ for an explanation\n",
    "\n",
    "# this measure works well when \n",
    "def kl_estimate_log(log_px, log_qx, n):\n",
    "    return (log_px - log_qx).mean()\n",
    "\n",
    "def kl_estimate(px, qx, n):\n",
    "    return (px / qx).log().mean()\n"
   ]
  },
  {
   "cell_type": "code",
   "execution_count": 113,
   "metadata": {},
   "outputs": [
    {
     "output_type": "stream",
     "name": "stdout",
     "text": "\n~kl div: tensor(0.4416)\n"
    }
   ],
   "source": [
    "n = 50000\n",
    "\n",
    "points = dist1.sample_n(n)\n",
    "p_points1 = dist1.log_prob(points).exp()\n",
    "p_points2 = dist2.log_prob(points).exp()\n",
    "\n",
    "print()\n",
    "print(\"~kl div:\", kl_estimate(p_points1, p_points2, n))\n"
   ]
  }
 ],
 "metadata": {
  "language_info": {
   "codemirror_mode": {
    "name": "ipython",
    "version": 3
   },
   "file_extension": ".py",
   "mimetype": "text/x-python",
   "name": "python",
   "nbconvert_exporter": "python",
   "pygments_lexer": "ipython3",
   "version": "3.7.6-final"
  },
  "orig_nbformat": 2,
  "kernelspec": {
   "name": "python3",
   "display_name": "Python 3"
  }
 },
 "nbformat": 4,
 "nbformat_minor": 2
}