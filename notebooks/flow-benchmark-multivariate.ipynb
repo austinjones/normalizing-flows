{
 "cells": [
  {
   "cell_type": "code",
   "execution_count": 1,
   "metadata": {},
   "outputs": [
    {
     "output_type": "stream",
     "name": "stdout",
     "text": "tensor([[ 2.7963, -6.3180],\n        [ 3.5935, -5.4084],\n        [ 4.3847, -5.0729],\n        ...,\n        [ 5.4512, -2.9535],\n        [ 5.7022, -2.0564],\n        [ 0.9494, -8.1974]])\n"
    }
   ],
   "source": [
    "import torch\n",
    "from torch.distributions import *\n",
    "from flows import *\n",
    "\n",
    "# dataset is skewed, correlated multivariate gaussian\n",
    "dim = 2\n",
    "datapoints = 2500\n",
    "\n",
    "mu = torch.tensor([4.5, -4.5])\n",
    "sigma = torch.tensor([[3.0, 2], [2, 3.0]])\n",
    "dist = MultivariateNormal(mu, sigma)\n",
    "\n",
    "table = dist.sample_n(datapoints)\n",
    "dataset = torch.utils.data.TensorDataset(table)\n",
    "dataloader = torch.utils.data.DataLoader(dataset, batch_size=1000)\n",
    "print(table)"
   ]
  },
  {
   "cell_type": "code",
   "execution_count": 72,
   "metadata": {},
   "outputs": [],
   "source": [
    "# dataset is mixture of multivariate gaussians\n",
    "dim = 2\n",
    "m = 4\n",
    "datapoints = 2500\n",
    "\n",
    "from torch.distributions import MixtureSameFamily\n",
    "\n",
    "mix = Categorical(torch.ones(m,))\n",
    "comp = Independent(Normal(\n",
    "             torch.randn(m,2), torch.rand(m,2)), 1)\n",
    "dist = MixtureSameFamily(mix, comp)\n",
    "\n",
    "table = dist.sample_n(datapoints)\n",
    "dataset = torch.utils.data.TensorDataset(table)\n",
    "dataloader = torch.utils.data.DataLoader(dataset, batch_size=1000)"
   ]
  },
  {
   "cell_type": "code",
   "execution_count": 105,
   "metadata": {},
   "outputs": [],
   "source": [
    "# flows convert to normal dist\n",
    "normal_flows = Flows(\n",
    "    # DenseTriangularFlow(dim, True),\n",
    "    # DenseTriangularFlow(dim, False),\n",
    "    # DenseTriangularFlow(dim, True),\n",
    "    # DenseTriangularFlow(dim, False),\n",
    "    # SoftsquareFlow(),\n",
    "\n",
    "    DenseTriangularFlow(dim, True),\n",
    "    # RankOneConvolutionFlow(dim),\n",
    "    # DenseTriangularFlow(dim, False),\n",
    "    # DenseTriangularFlow(dim, True),\n",
    "    # DenseTriangularFlow(dim, False),\n",
    "    # SoftlogFlow(),\n",
    "    # RankOneConvolutionFlow(dim),\n",
    "    # RankOneConvolutionFlow(dim),\n",
    "    # RankOneConvolutionFlow(dim),\n",
    "    # RankOneConvolutionFlow(dim),\n",
    "    # SoftsquareFlow(2),\n",
    "    # SoftlogFlow(),\n",
    "    SoftsquareFlow(2),\n",
    "    SoftsquareFlow(2),\n",
    "    SoftsquareFlow(2),\n",
    "    SoftsquareFlow(2),\n",
    "    # DenseTriangularFlow(dim, True),\n",
    "    # RankOneConvolutionFlow(dim),\n",
    "    # DenseTriangularFlow(dim, False),\n",
    "    # DenseTriangularFlow(dim, True),\n",
    "    # DenseTriangularFlow(dim, False),\n",
    "    # SoftlogFlow(),\n",
    "    # SoftlogFlow(),\n",
    "    # DenseTriangularFlow(dim, True),\n",
    "    # DenseTriangularFlow(dim, False),\n",
    "    # RankOneConvolutionFlow(dim),\n",
    "\n",
    "    # DenseTriangularFlow(dim, True),\n",
    "    # DenseTriangularFlow(dim, False),\n",
    "    # RankOneConvolutionFlow(dim),\n",
    "    # SoftlogFlow(),\n",
    "    # SoftsquareFlow(2),\n",
    "\n",
    "    # DenseTriangularFlow(dim, True),\n",
    "    # RankOneConvolutionFlow(dim),\n",
    "    # DenseTriangularFlow(dim, False),\n",
    "\n",
    "    # DenseTriangularFlow(dim, True),\n",
    "    # RankOneConvolutionFlow(dim),\n",
    "    # DenseTriangularFlow(dim, False),\n",
    "    # SoftsquareFlow(2),\n",
    "    # SoftlogFlow()\n",
    ")\n",
    "\n",
    "# final flow converts to normal\n",
    "\n",
    "# train on NLL\n",
    "net = FlowModule(normal_flows, NegLogLikelihoodLoss(dim))\n",
    "\n",
    "optimizer = torch.optim.Adam(net.parameters(), lr=1e-2)"
   ]
  },
  {
   "cell_type": "code",
   "execution_count": 106,
   "metadata": {
    "tags": [
     "outputPrepend",
     "outputPrepend",
     "outputPrepend",
     "outputPrepend",
     "outputPrepend",
     "outputPrepend",
     "outputPrepend",
     "outputPrepend",
     "outputPrepend",
     "outputPrepend",
     "outputPrepend",
     "outputPrepend",
     "outputPrepend",
     "outputPrepend",
     "outputPrepend",
     "outputPrepend"
    ]
   },
   "outputs": [
    {
     "output_type": "stream",
     "name": "stdout",
     "text": "final loss: 2.606\n"
    }
   ],
   "source": [
    "final_loss = 0.0\n",
    "for batch in range(200):  #1oop over the dataset multiple times\n",
    "    for _, data in enumerate(dataloader, 0):\n",
    "        # zero the parameter gradients\n",
    "        optimizer.zero_grad()\n",
    "\n",
    "        # forward + backward + optimize\n",
    "        loss = net(data[0])\n",
    "        loss.backward()\n",
    "        optimizer.step()\n",
    "        final_loss = loss\n",
    "print(\"final loss: %.03f\" % final_loss)"
   ]
  },
  {
   "cell_type": "code",
   "execution_count": 6,
   "metadata": {},
   "outputs": [],
   "source": [
    "# - See kl-estimator.ipynb for details & benchmark\n",
    "def kl_estimate_log(log_px, log_qx, n):\n",
    "    return (log_px - log_qx).mean()"
   ]
  },
  {
   "cell_type": "code",
   "execution_count": 107,
   "metadata": {
    "tags": [
     "outputPrepend"
    ]
   },
   "outputs": [
    {
     "output_type": "stream",
     "name": "stdout",
     "text": "tensor([[0.3761, 0.1044],\n        [0.0163, 0.0507],\n        [0.0592, 0.0685],\n        ...,\n        [0.2189, 0.1050],\n        [3.1404, 0.0699],\n        [0.0604, 0.1093]], grad_fn=<StackBackward>)\n\n~kl div: tensor(2.5758, grad_fn=<MeanBackward0>)\n"
    }
   ],
   "source": [
    "n = 50000\n",
    "points = dist.sample_n(n)\n",
    "p_points = dist.log_prob(points)\n",
    "\n",
    "normalized_points, log_det = normal_flows(points)\n",
    "dist_target = MultivariateNormal(torch.zeros(dim), torch.eye(dim))\n",
    "p_normalized_points = dist_target.log_prob(normalized_points) + log_det\n",
    "\n",
    "uniform_with_y = torch.stack([p_points.exp(), p_normalized_points.exp()], dim=1)\n",
    "print(uniform_with_y)\n",
    "\n",
    "print()\n",
    "# - RMSE measure between P and the reconstructed P.\n",
    "# This performs \n",
    "# rmse = (p_points - p_normalized_points).pow(2).mean().sqrt()\n",
    "# print(\"rmse:\", rmse)\n",
    "\n",
    "print(\"~kl div:\", kl_estimate_log(p_points, p_normalized_points, n))"
   ]
  },
  {
   "cell_type": "code",
   "execution_count": 78,
   "metadata": {},
   "outputs": [
    {
     "output_type": "stream",
     "name": "stdout",
     "text": "3.1109 - DenseTriangularFlow():\n3.0845 - DenseTriangularFlow():\n3.0634 - DenseTriangularFlow():\n3.0464 - DenseTriangularFlow():\n3.0328 - DenseTriangularFlow():\n3.0218 - DenseTriangularFlow():\n3.0127 - DenseTriangularFlow():\n3.0050 - DenseTriangularFlow():\n2.9980 - DenseTriangularFlow():\n2.9914 - DenseTriangularFlow():\n2.9847 - DenseTriangularFlow():\n2.9775 - DenseTriangularFlow():\n2.9695 - DenseTriangularFlow():\n2.9606 - DenseTriangularFlow():\n2.9505 - DenseTriangularFlow():\n2.9391 - DenseTriangularFlow():\n2.9263 - DenseTriangularFlow():\n2.9122 - DenseTriangularFlow():\n2.8966 - DenseTriangularFlow():\n2.8797 - DenseTriangularFlow():\n2.8617 - DenseTriangularFlow():\n2.8425 - DenseTriangularFlow():\n2.8225 - DenseTriangularFlow():\n2.8019 - DenseTriangularFlow():\n2.7809 - DenseTriangularFlow():\n2.7597 - DenseTriangularFlow():\n2.7387 - DenseTriangularFlow():\n2.7183 - DenseTriangularFlow():\n2.6986 - DenseTriangularFlow():\n2.6802 - DenseTriangularFlow():\n2.6632 - DenseTriangularFlow():\n2.6481 - DenseTriangularFlow():\n2.6352 - DenseTriangularFlow():\n2.6249 - DenseTriangularFlow():\n2.6175 - DenseTriangularFlow():\n2.6133 - DenseTriangularFlow():\n2.6127 - DenseTriangularFlow():\n"
    }
   ],
   "source": [
    "n = 5000\n",
    "points = dist.sample_n(n)\n",
    "p_points = dist.log_prob(points)\n",
    "\n",
    "for ps, log_det, f in zip(*normal_flows.forward_trace(points),normal_flows.flows):\n",
    "    dist_target = MultivariateNormal(torch.zeros(dim), torch.eye(dim))\n",
    "    p_normalized_points = dist_target.log_prob(ps) + log_det\n",
    "    approx_kl_divergence = kl_estimate_log(p_points, p_normalized_points, n).item()\n",
    "    params = list(f.parameters())\n",
    "    print(\"%1.4f - %s:\" % (approx_kl_divergence, f))"
   ]
  },
  {
   "cell_type": "code",
   "execution_count": 20,
   "metadata": {},
   "outputs": [],
   "source": [
    "# GMM, just triangular\n",
    "# 0.7054 - DenseTriangularFlow():\n",
    "# 0.6377 - DenseTriangularFlow():\n",
    "# 0.5690 - DenseTriangularFlow():\n",
    "# 0.5137 - DenseTriangularFlow():\n",
    "# 0.4637 - DenseTriangularFlow():\n",
    "# 0.4279 - DenseTriangularFlow():\n",
    "# 0.4056 - DenseTriangularFlow():\n",
    "# 0.4009 - DenseTriangularFlow():\n",
    "\n",
    "# GMM, with softsquare:\n",
    "# 0.9543 - DenseTriangularFlow():\n",
    "# 1.3299 - DenseTriangularFlow():\n",
    "# 1.9128 - DenseTriangularFlow():\n",
    "# 2.7210 - DenseTriangularFlow():\n",
    "# 3.7737 - SoftsquareFlow():\n",
    "# 2.1087 - DenseTriangularFlow():\n",
    "# 1.0214 - DenseTriangularFlow():\n",
    "# 0.6332 - DenseTriangularFlow():\n",
    "# 0.3926 - DenseTriangularFlow():\n",
    "# 0.2179 - SoftsquareFlow():"
   ]
  },
  {
   "cell_type": "code",
   "execution_count": 152,
   "metadata": {},
   "outputs": [],
   "source": [
    "# weight decay=0\n",
    "# 12.0914 - DenseTriangularFlow():\n",
    "# 6.5785 - DenseTriangularFlow():\n",
    "# 7.2849 - RankOneConvolutionFlow():\n",
    "# 3.9024 - DenseTriangularFlow():\n",
    "# 2.0706 - DenseTriangularFlow():\n",
    "# 2.6122 - RankOneConvolutionFlow():\n",
    "# 1.3863 - DenseTriangularFlow():\n",
    "# 0.8577 - DenseTriangularFlow():\n",
    "# 0.8722 - RankOneConvolutionFlow():\n",
    "# 0.4547 - DenseTriangularFlow():\n",
    "# 0.4224 - DenseTriangularFlow():\n",
    "# 0.0007 - RankOneConvolutionFlow():\n",
    "# 0.0010 - final\n",
    "\n",
    "# weight decay=0.3\n",
    "# 11.0923 - DenseTriangularFlow():\n",
    "# 5.7981 - DenseTriangularFlow():\n",
    "# 5.7981 - RankOneConvolutionFlow():\n",
    "# 3.1169 - DenseTriangularFlow():\n",
    "# 1.7651 - DenseTriangularFlow():\n",
    "# 1.7651 - RankOneConvolutionFlow():\n",
    "# 1.0828 - DenseTriangularFlow():\n",
    "# 0.7314 - DenseTriangularFlow():\n",
    "# 0.6163 - RankOneConvolutionFlow():\n",
    "# 0.4187 - DenseTriangularFlow():\n",
    "# 0.2986 - DenseTriangularFlow():\n",
    "# 0.0802 - RankOneConvolutionFlow():\n",
    "# 0.0879 - final"
   ]
  },
  {
   "cell_type": "code",
   "execution_count": 59,
   "metadata": {},
   "outputs": [],
   "source": [
    "# dense triangular x4, softlog, dense triangular x4, softlog:\n",
    "# loss: 2.951, rmse 0.0150"
   ]
  },
  {
   "cell_type": "code",
   "execution_count": 21,
   "metadata": {},
   "outputs": [
    {
     "output_type": "stream",
     "name": "stdout",
     "text": "DenseTriangularFlow()\n  w = tensor([[ 0.9963, -0.0506],\n        [ 0.0000,  1.0312]])\n  b = tensor([0.0112, 0.4087])\n\nRankOneConvolutionFlow()\n  u = tensor([[-0.0097],\n        [ 0.5840]])\n  vT = tensor([[0.1250, 0.3196]])\n\nDenseTriangularFlow()\n  w = tensor([[0.9746, 0.0000],\n        [0.1247, 1.0445]])\n  b = tensor([-0.0548,  0.4099])\n\nDenseTriangularFlow()\n  w = tensor([[ 0.9707, -0.0587],\n        [ 0.0000,  1.0640]])\n  b = tensor([-0.0547,  0.4202])\n\nRankOneConvolutionFlow()\n  u = tensor([[-0.0569],\n        [ 0.7591]])\n  vT = tensor([[0.0269, 0.4760]])\n\nDenseTriangularFlow()\n  w = tensor([[ 0.9605,  0.0000],\n        [-0.0578,  1.0791]])\n  b = tensor([-0.0906,  0.4134])\n\nSoftsquareFlow()\n  a = tensor([0.8160, 0.3563])\n  b = tensor([-0.3085,  0.4978])\n\nDenseTriangularFlow()\n  w = tensor([[ 0.8999, -0.1381],\n        [ 0.0000,  0.8258]])\n  b = tensor([ 0.1859, -0.2439])\n\nRankOneConvolutionFlow()\n  u = tensor([[ 0.0754],\n        [-0.8674]])\n  vT = tensor([[-0.7212,  0.7180]])\n\nDenseTriangularFlow()\n  w = tensor([[0.8249, 0.0000],\n        [0.3644, 0.8400]])\n  b = tensor([ 0.2700, -0.2498])\n\nDenseTriangularFlow()\n  w = tensor([[ 0.8378, -0.0485],\n        [ 0.0000,  0.8565]])\n  b = tensor([ 0.2828, -0.2451])\n\nRankOneConvolutionFlow()\n  u = tensor([[ 0.1233],\n        [-0.3291]])\n  vT = tensor([[-0.1181,  0.4232]])\n\nDenseTriangularFlow()\n  w = tensor([[0.8187, 0.0000],\n        [0.3042, 0.8601]])\n  b = tensor([ 0.3499, -0.2489])\n\nSoftsquareFlow()\n  a = tensor([0.9527, 0.8805])\n  b = tensor([0.0010, 0.0101])\n\n"
    }
   ],
   "source": [
    "for f in normal_flows.flows:\n",
    "    print(f)\n",
    "    for name, param in f.named_parameters():\n",
    "        print(\"  %s = %s\" % (name, param.data))\n",
    "    print()\n",
    "\n"
   ]
  },
  {
   "cell_type": "code",
   "execution_count": 13,
   "metadata": {},
   "outputs": [
    {
     "output_type": "stream",
     "name": "stdout",
     "text": "Parameter containing:\ntensor([[0.1384],\n        [0.0312]], requires_grad=True)\ntensor([[-0.0010],\n        [ 0.0205]])\nParameter containing:\ntensor([[-0.0314, -0.1211]], requires_grad=True)\ntensor([[ 0.0111, -0.0070]])\n"
    }
   ],
   "source": [
    "print(net.flow.flows[2].u)\n",
    "print(net.flow.flows[2].u.grad)\n",
    "print(net.flow.flows[2].vT)\n",
    "print(net.flow.flows[2].vT.grad)"
   ]
  },
  {
   "cell_type": "code",
   "execution_count": 8,
   "metadata": {},
   "outputs": [
    {
     "output_type": "stream",
     "name": "stdout",
     "text": "[Parameter containing:\ntensor([[-0.0099],\n        [-0.0099]], requires_grad=True), Parameter containing:\ntensor([[-0.0099, -0.0099]], requires_grad=True), Parameter containing:\ntensor([[-0.0099],\n        [-0.0099]], requires_grad=True), Parameter containing:\ntensor([[-0.0099, -0.0099]], requires_grad=True), Parameter containing:\ntensor([[-0.0099],\n        [-0.0099]], requires_grad=True), Parameter containing:\ntensor([[-0.0099, -0.0099]], requires_grad=True), Parameter containing:\ntensor([[-0.0099],\n        [-0.0099]], requires_grad=True), Parameter containing:\ntensor([[-0.0099, -0.0099]], requires_grad=True), Parameter containing:\ntensor([[-0.0099],\n        [-0.0099]], requires_grad=True), Parameter containing:\ntensor([[-0.0099, -0.0099]], requires_grad=True), Parameter containing:\ntensor([[-0.0099],\n        [-0.0099]], requires_grad=True), Parameter containing:\ntensor([[-0.0099, -0.0099]], requires_grad=True)]\n"
    }
   ],
   "source": [
    "print(list(net.parameters()))"
   ]
  }
 ],
 "metadata": {
  "language_info": {
   "codemirror_mode": {
    "name": "ipython",
    "version": 3
   },
   "file_extension": ".py",
   "mimetype": "text/x-python",
   "name": "python",
   "nbconvert_exporter": "python",
   "pygments_lexer": "ipython3",
   "version": "3.7.6-final"
  },
  "orig_nbformat": 2,
  "kernelspec": {
   "name": "python3",
   "display_name": "Python 3"
  }
 },
 "nbformat": 4,
 "nbformat_minor": 2
}