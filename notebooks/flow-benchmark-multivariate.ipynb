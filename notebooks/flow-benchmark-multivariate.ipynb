{
 "cells": [
  {
   "cell_type": "code",
   "execution_count": null,
   "metadata": {},
   "outputs": [],
   "source": [
    "# This notebook trains & benchmarks flows on a multivariate gaussian problem.\n",
    "# See flows.py for a library of modules."
   ]
  },
  {
   "cell_type": "code",
   "execution_count": 3,
   "metadata": {},
   "outputs": [
    {
     "output_type": "stream",
     "name": "stdout",
     "text": "tensor([[ 4.6453, -3.4431],\n        [ 3.7798, -3.7737],\n        [ 5.5684, -3.9274],\n        ...,\n        [ 4.9403, -4.7214],\n        [ 3.2602, -4.9676],\n        [ 3.5042, -6.5901]])\n"
    }
   ],
   "source": [
    "import torch\n",
    "from torch.distributions import *\n",
    "from flows import *\n",
    "\n",
    "# - See kl-estimator.ipynb for details & benchmark\n",
    "def kl_estimate_log(log_px, log_qx, n):\n",
    "    return (log_px - log_qx).mean()\n",
    "\n",
    "# dataset is skewed, correlated multivariate gaussian\n",
    "dim = 2\n",
    "datapoints = 2500\n",
    "\n",
    "mu = torch.tensor([4.5, -4.5])\n",
    "sigma = torch.tensor([[3.0, 2], [2, 3.0]])\n",
    "dist = MultivariateNormal(mu, sigma)\n",
    "\n",
    "table = dist.sample_n(datapoints)\n",
    "dataset = torch.utils.data.TensorDataset(table)\n",
    "dataloader = torch.utils.data.DataLoader(dataset, batch_size=1000)\n",
    "print(table)"
   ]
  },
  {
   "cell_type": "code",
   "execution_count": 4,
   "metadata": {},
   "outputs": [],
   "source": [
    "dim = 2\n",
    "m = 4\n",
    "datapoints = 2500\n",
    "\n",
    "from torch.distributions import MixtureSameFamily\n",
    "\n",
    "mix = Categorical(torch.ones(m,))\n",
    "comp = Independent(Normal(\n",
    "             torch.randn(m,2), torch.rand(m,2)), 1)\n",
    "dist = MixtureSameFamily(mix, comp)\n",
    "\n",
    "table = dist.sample_n(datapoints)\n",
    "dataset = torch.utils.data.TensorDataset(table)\n",
    "dataloader = torch.utils.data.DataLoader(dataset, batch_size=1000)"
   ]
  },
  {
   "cell_type": "code",
   "execution_count": 5,
   "metadata": {},
   "outputs": [],
   "source": [
    "# flows convert to normal dist\n",
    "normal_flows = Flows(\n",
    "    DenseTriangularFlow(dim, True),\n",
    "    DenseTriangularFlow(dim, False),\n",
    "    DenseTriangularFlow(dim, True),\n",
    "    DenseTriangularFlow(dim, False),\n",
    "    SoftsquareFlow(dim),\n",
    "    DenseTriangularFlow(dim, True),\n",
    "    DenseTriangularFlow(dim, False),\n",
    "    DenseTriangularFlow(dim, True),\n",
    "    DenseTriangularFlow(dim, False),\n",
    "    SoftsquareFlow(dim),\n",
    "    DenseTriangularFlow(dim, True),\n",
    "    DenseTriangularFlow(dim, False),\n",
    "    DenseTriangularFlow(dim, True),\n",
    "    DenseTriangularFlow(dim, False),\n",
    "    SoftsquareFlow(dim),\n",
    ")\n",
    "\n",
    "# final flow converts to normal\n",
    "\n",
    "# train on NLL\n",
    "net = FlowModule(normal_flows, NegLogLikelihoodLoss(dim))\n",
    "\n",
    "optimizer = torch.optim.Adam(net.parameters(), lr=1e-2)"
   ]
  },
  {
   "cell_type": "code",
   "execution_count": 6,
   "metadata": {},
   "outputs": [
    {
     "output_type": "stream",
     "name": "stdout",
     "text": "final loss: 2.186\n"
    }
   ],
   "source": [
    "final_loss = 0.0\n",
    "for batch in range(200):  #1oop over the dataset multiple times\n",
    "    for _, data in enumerate(dataloader, 0):\n",
    "        # zero the parameter gradients\n",
    "        optimizer.zero_grad()\n",
    "\n",
    "        # forward + backward + optimize\n",
    "        loss = net(data[0])\n",
    "        loss.backward()\n",
    "        optimizer.step()\n",
    "        final_loss = loss\n",
    "print(\"final loss: %.03f\" % final_loss)"
   ]
  },
  {
   "cell_type": "code",
   "execution_count": 7,
   "metadata": {},
   "outputs": [
    {
     "output_type": "stream",
     "name": "stdout",
     "text": "DenseTriangularFlow()\n  w = tensor([[ 0.6842, -0.7064],\n        [ 0.0000,  0.8338]])\n  b = tensor([ 0.0741, -0.2736])\n\nDenseTriangularFlow()\n  w = tensor([[ 0.8468,  0.0000],\n        [-0.2732,  0.8877]])\n  b = tensor([ 0.0494, -0.2820])\n\nDenseTriangularFlow()\n  w = tensor([[ 0.8459, -0.5287],\n        [ 0.0000,  0.9183]])\n  b = tensor([ 0.0527, -0.2920])\n\nDenseTriangularFlow()\n  w = tensor([[ 0.9603,  0.0000],\n        [-0.2330,  0.9518]])\n  b = tensor([ 0.0321, -0.2999])\n\nSoftsquareFlow()\n  a = tensor([1.0547, 1.0072])\n  b = tensor([0.0022, 0.1885])\n\nDenseTriangularFlow()\n  w = tensor([[1.0057, 0.2035],\n        [0.0000, 0.9777]])\n  b = tensor([0.0586, 0.1998])\n\nDenseTriangularFlow()\n  w = tensor([[1.0249, 0.0000],\n        [0.2095, 0.9839]])\n  b = tensor([0.0544, 0.1973])\n\nDenseTriangularFlow()\n  w = tensor([[1.0210, 0.2053],\n        [0.0000, 0.9853]])\n  b = tensor([0.0577, 0.2055])\n\nDenseTriangularFlow()\n  w = tensor([[1.0423, 0.0000],\n        [0.2206, 0.9932]])\n  b = tensor([0.0529, 0.2037])\n\nSoftsquareFlow()\n  a = tensor([1.1132, 1.0616])\n  b = tensor([ 0.0034, -0.0010])\n\nDenseTriangularFlow()\n  w = tensor([[1.0756, 0.3795],\n        [0.0000, 0.9852]])\n  b = tensor([0.0484, 0.2209])\n\nDenseTriangularFlow()\n  w = tensor([[1.2087, 0.0000],\n        [0.3009, 0.9970]])\n  b = tensor([0.0440, 0.2222])\n\nDenseTriangularFlow()\n  w = tensor([[1.2029, 0.3972],\n        [0.0000, 0.9790]])\n  b = tensor([0.0447, 0.2363])\n\nDenseTriangularFlow()\n  w = tensor([[1.2998, 0.0000],\n        [0.3292, 0.9938]])\n  b = tensor([0.0406, 0.2405])\n\nSoftsquareFlow()\n  a = tensor([1.3505, 0.2882])\n  b = tensor([-0.0010,  0.6415])\n\n"
    }
   ],
   "source": [
    "for f in normal_flows.flows:\n",
    "    print(f)\n",
    "    for name, param in f.named_parameters():\n",
    "        print(\"  %s = %s\" % (name, param.data))\n",
    "    print()"
   ]
  },
  {
   "cell_type": "code",
   "execution_count": 8,
   "metadata": {},
   "outputs": [
    {
     "output_type": "stream",
     "name": "stdout",
     "text": "tensor([[0.1997, 0.2417],\n        [0.0609, 0.1166],\n        [0.2301, 0.1625],\n        ...,\n        [0.1393, 0.2648],\n        [0.0936, 0.2073],\n        [2.3091, 0.1859]], grad_fn=<StackBackward>)\n\n~kl div: tensor(0.4877, grad_fn=<MeanBackward0>)\n"
    }
   ],
   "source": [
    "n = 50000\n",
    "points = dist.sample_n(n)\n",
    "p_points = dist.log_prob(points)\n",
    "\n",
    "normalized_points, log_det = normal_flows(points)\n",
    "dist_target = MultivariateNormal(torch.zeros(dim), torch.eye(dim))\n",
    "p_normalized_points = dist_target.log_prob(normalized_points) + log_det\n",
    "\n",
    "uniform_with_y = torch.stack([p_points.exp(), p_normalized_points.exp()], dim=1)\n",
    "print(uniform_with_y)\n",
    "\n",
    "print()\n",
    "\n",
    "print(\"~kl div:\", kl_estimate_log(p_points, p_normalized_points, n))"
   ]
  },
  {
   "cell_type": "code",
   "execution_count": 9,
   "metadata": {},
   "outputs": [
    {
     "output_type": "stream",
     "name": "stdout",
     "text": "1.4280 - DenseTriangularFlow():\n1.8065 - DenseTriangularFlow():\n2.5409 - DenseTriangularFlow():\n3.1455 - DenseTriangularFlow():\n3.9743 - SoftsquareFlow():\n3.2066 - DenseTriangularFlow():\n2.6349 - DenseTriangularFlow():\n2.1770 - DenseTriangularFlow():\n1.8212 - DenseTriangularFlow():\n1.8154 - SoftsquareFlow():\n1.3888 - DenseTriangularFlow():\n1.0681 - DenseTriangularFlow():\n0.8200 - DenseTriangularFlow():\n0.6772 - DenseTriangularFlow():\n0.4593 - SoftsquareFlow():\n"
    }
   ],
   "source": [
    "n = 5000\n",
    "points = dist.sample_n(n)\n",
    "p_points = dist.log_prob(points)\n",
    "\n",
    "for ps, log_det, f in zip(*normal_flows.forward_trace(points),normal_flows.flows):\n",
    "    dist_target = MultivariateNormal(torch.zeros(dim), torch.eye(dim))\n",
    "    p_normalized_points = dist_target.log_prob(ps) + log_det\n",
    "    approx_kl_divergence = kl_estimate_log(p_points, p_normalized_points, n).item()\n",
    "    params = list(f.parameters())\n",
    "    print(\"%1.4f - %s:\" % (approx_kl_divergence, f))"
   ]
  }
 ],
 "metadata": {
  "language_info": {
   "codemirror_mode": {
    "name": "ipython",
    "version": 3
   },
   "file_extension": ".py",
   "mimetype": "text/x-python",
   "name": "python",
   "nbconvert_exporter": "python",
   "pygments_lexer": "ipython3",
   "version": "3.7.6-final"
  },
  "orig_nbformat": 2,
  "kernelspec": {
   "name": "python3",
   "display_name": "Python 3"
  }
 },
 "nbformat": 4,
 "nbformat_minor": 2
}